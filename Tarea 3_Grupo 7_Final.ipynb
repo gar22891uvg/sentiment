{
 "cells": [
  {
   "cell_type": "markdown",
   "id": "0b347ebf",
   "metadata": {},
   "source": [
    "## Grupo NPL 7\n",
    "## Franz Josef Haidacher Avila\n",
    "## Victor Ernesto De Leon Müller\n",
    "## Jaime Miguel García González\n",
    "## Curso TEXT MINING & NATURAL LANGUAGE PROCESSING - SECCIÓN - 10 -2022 -1\n",
    "## UVG\n"
   ]
  },
  {
   "cell_type": "code",
   "execution_count": 1,
   "id": "efd9c311",
   "metadata": {},
   "outputs": [],
   "source": [
    "#!pip install numpy\n",
    "#!pip install pandas\n",
    "import numpy as np\n",
    "import pandas as pd\n"
   ]
  },
  {
   "cell_type": "markdown",
   "id": "98a5852e",
   "metadata": {},
   "source": [
    "## Obtención de Dataset utilizado (Tripadvisor)"
   ]
  },
  {
   "cell_type": "code",
   "execution_count": 2,
   "id": "f51fc156",
   "metadata": {},
   "outputs": [],
   "source": [
    "df= pd.read_csv(\"C://Users//jmgarcia//puerto_escondido_hotels.csv\")"
   ]
  },
  {
   "cell_type": "code",
   "execution_count": 9,
   "id": "710662f8",
   "metadata": {},
   "outputs": [
    {
     "data": {
      "text/html": [
       "<div>\n",
       "<style scoped>\n",
       "    .dataframe tbody tr th:only-of-type {\n",
       "        vertical-align: middle;\n",
       "    }\n",
       "\n",
       "    .dataframe tbody tr th {\n",
       "        vertical-align: top;\n",
       "    }\n",
       "\n",
       "    .dataframe thead th {\n",
       "        text-align: right;\n",
       "    }\n",
       "</style>\n",
       "<table border=\"1\" class=\"dataframe\">\n",
       "  <thead>\n",
       "    <tr style=\"text-align: right;\">\n",
       "      <th></th>\n",
       "      <th>rating</th>\n",
       "      <th>review</th>\n",
       "    </tr>\n",
       "  </thead>\n",
       "  <tbody>\n",
       "    <tr>\n",
       "      <th>0</th>\n",
       "      <td>50</td>\n",
       "      <td>In the Hotel the had a good room service, the ...</td>\n",
       "    </tr>\n",
       "    <tr>\n",
       "      <th>1</th>\n",
       "      <td>40</td>\n",
       "      <td>We spent a night here at this hotel when we fi...</td>\n",
       "    </tr>\n",
       "    <tr>\n",
       "      <th>2</th>\n",
       "      <td>40</td>\n",
       "      <td>Our room was clean and only a short walk to th...</td>\n",
       "    </tr>\n",
       "    <tr>\n",
       "      <th>3</th>\n",
       "      <td>10</td>\n",
       "      <td>Booked for 8 nights but stayed one( only becau...</td>\n",
       "    </tr>\n",
       "    <tr>\n",
       "      <th>4</th>\n",
       "      <td>20</td>\n",
       "      <td>This is the loudest hotel I’ve ever stayed at....</td>\n",
       "    </tr>\n",
       "  </tbody>\n",
       "</table>\n",
       "</div>"
      ],
      "text/plain": [
       "   rating                                             review\n",
       "0      50  In the Hotel the had a good room service, the ...\n",
       "1      40  We spent a night here at this hotel when we fi...\n",
       "2      40  Our room was clean and only a short walk to th...\n",
       "3      10  Booked for 8 nights but stayed one( only becau...\n",
       "4      20  This is the loudest hotel I’ve ever stayed at...."
      ]
     },
     "execution_count": 9,
     "metadata": {},
     "output_type": "execute_result"
    }
   ],
   "source": [
    "df.head()"
   ]
  },
  {
   "cell_type": "code",
   "execution_count": 10,
   "id": "1659ab00",
   "metadata": {},
   "outputs": [
    {
     "data": {
      "text/html": [
       "<div>\n",
       "<style scoped>\n",
       "    .dataframe tbody tr th:only-of-type {\n",
       "        vertical-align: middle;\n",
       "    }\n",
       "\n",
       "    .dataframe tbody tr th {\n",
       "        vertical-align: top;\n",
       "    }\n",
       "\n",
       "    .dataframe thead th {\n",
       "        text-align: right;\n",
       "    }\n",
       "</style>\n",
       "<table border=\"1\" class=\"dataframe\">\n",
       "  <thead>\n",
       "    <tr style=\"text-align: right;\">\n",
       "      <th></th>\n",
       "      <th>rating</th>\n",
       "      <th>review</th>\n",
       "    </tr>\n",
       "  </thead>\n",
       "  <tbody>\n",
       "    <tr>\n",
       "      <th>1</th>\n",
       "      <td>40</td>\n",
       "      <td>We spent a night here at this hotel when we fi...</td>\n",
       "    </tr>\n",
       "    <tr>\n",
       "      <th>2</th>\n",
       "      <td>40</td>\n",
       "      <td>Our room was clean and only a short walk to th...</td>\n",
       "    </tr>\n",
       "    <tr>\n",
       "      <th>3</th>\n",
       "      <td>10</td>\n",
       "      <td>Booked for 8 nights but stayed one( only becau...</td>\n",
       "    </tr>\n",
       "    <tr>\n",
       "      <th>4</th>\n",
       "      <td>20</td>\n",
       "      <td>This is the loudest hotel I’ve ever stayed at....</td>\n",
       "    </tr>\n",
       "    <tr>\n",
       "      <th>5</th>\n",
       "      <td>40</td>\n",
       "      <td>My wife and I decided to make a spur of the mo...</td>\n",
       "    </tr>\n",
       "    <tr>\n",
       "      <th>...</th>\n",
       "      <td>...</td>\n",
       "      <td>...</td>\n",
       "    </tr>\n",
       "    <tr>\n",
       "      <th>95</th>\n",
       "      <td>40</td>\n",
       "      <td>This hotel has it all. Perfect location in the...</td>\n",
       "    </tr>\n",
       "    <tr>\n",
       "      <th>96</th>\n",
       "      <td>50</td>\n",
       "      <td>This hotel is probably one of the best on the ...</td>\n",
       "    </tr>\n",
       "    <tr>\n",
       "      <th>97</th>\n",
       "      <td>50</td>\n",
       "      <td>Three couples have just returned from a two we...</td>\n",
       "    </tr>\n",
       "    <tr>\n",
       "      <th>98</th>\n",
       "      <td>50</td>\n",
       "      <td>We just love it perfect for relax really not e...</td>\n",
       "    </tr>\n",
       "    <tr>\n",
       "      <th>99</th>\n",
       "      <td>10</td>\n",
       "      <td>In November we saw the great reviews for Las H...</td>\n",
       "    </tr>\n",
       "  </tbody>\n",
       "</table>\n",
       "<p>99 rows × 2 columns</p>\n",
       "</div>"
      ],
      "text/plain": [
       "    rating                                             review\n",
       "1       40  We spent a night here at this hotel when we fi...\n",
       "2       40  Our room was clean and only a short walk to th...\n",
       "3       10  Booked for 8 nights but stayed one( only becau...\n",
       "4       20  This is the loudest hotel I’ve ever stayed at....\n",
       "5       40  My wife and I decided to make a spur of the mo...\n",
       "..     ...                                                ...\n",
       "95      40  This hotel has it all. Perfect location in the...\n",
       "96      50  This hotel is probably one of the best on the ...\n",
       "97      50  Three couples have just returned from a two we...\n",
       "98      50  We just love it perfect for relax really not e...\n",
       "99      10  In November we saw the great reviews for Las H...\n",
       "\n",
       "[99 rows x 2 columns]"
      ]
     },
     "execution_count": 10,
     "metadata": {},
     "output_type": "execute_result"
    }
   ],
   "source": [
    "df.iloc[1:100]"
   ]
  },
  {
   "cell_type": "code",
   "execution_count": 11,
   "id": "0382d929",
   "metadata": {},
   "outputs": [
    {
     "data": {
      "text/plain": [
       "(4824, 2)"
      ]
     },
     "execution_count": 11,
     "metadata": {},
     "output_type": "execute_result"
    }
   ],
   "source": [
    "df.shape"
   ]
  },
  {
   "cell_type": "code",
   "execution_count": 12,
   "id": "34482c9e",
   "metadata": {},
   "outputs": [
    {
     "data": {
      "text/plain": [
       "rating    0\n",
       "review    0\n",
       "dtype: int64"
      ]
     },
     "execution_count": 12,
     "metadata": {},
     "output_type": "execute_result"
    }
   ],
   "source": [
    "df.isnull().sum()"
   ]
  },
  {
   "cell_type": "code",
   "execution_count": 13,
   "id": "30fb3139",
   "metadata": {},
   "outputs": [
    {
     "data": {
      "text/plain": [
       "rating    0\n",
       "review    0\n",
       "dtype: int64"
      ]
     },
     "execution_count": 13,
     "metadata": {},
     "output_type": "execute_result"
    }
   ],
   "source": [
    "df.isnull().sum().sort_values(ascending=False)"
   ]
  },
  {
   "cell_type": "code",
   "execution_count": 8,
   "id": "168448ef",
   "metadata": {},
   "outputs": [],
   "source": [
    "#df.dropna(inplace=True)"
   ]
  },
  {
   "cell_type": "code",
   "execution_count": 14,
   "id": "c9d4c1a6",
   "metadata": {},
   "outputs": [
    {
     "data": {
      "text/plain": [
       "50    3507\n",
       "40     780\n",
       "30     245\n",
       "10     151\n",
       "20     141\n",
       "Name: rating, dtype: int64"
      ]
     },
     "execution_count": 14,
     "metadata": {},
     "output_type": "execute_result"
    }
   ],
   "source": [
    "df[\"rating\"].value_counts()"
   ]
  },
  {
   "cell_type": "code",
   "execution_count": 15,
   "id": "a46716f3",
   "metadata": {},
   "outputs": [],
   "source": [
    "df[\"Positively Rated\"]= np.where(df[\"rating\"]>30, 1, 0)"
   ]
  },
  {
   "cell_type": "code",
   "execution_count": 16,
   "id": "3fbb52b1",
   "metadata": {},
   "outputs": [
    {
     "data": {
      "text/plain": [
       "(4824, 3)"
      ]
     },
     "execution_count": 16,
     "metadata": {},
     "output_type": "execute_result"
    }
   ],
   "source": [
    "df.shape"
   ]
  },
  {
   "cell_type": "code",
   "execution_count": 17,
   "id": "a27a6971",
   "metadata": {},
   "outputs": [
    {
     "data": {
      "text/html": [
       "<div>\n",
       "<style scoped>\n",
       "    .dataframe tbody tr th:only-of-type {\n",
       "        vertical-align: middle;\n",
       "    }\n",
       "\n",
       "    .dataframe tbody tr th {\n",
       "        vertical-align: top;\n",
       "    }\n",
       "\n",
       "    .dataframe thead th {\n",
       "        text-align: right;\n",
       "    }\n",
       "</style>\n",
       "<table border=\"1\" class=\"dataframe\">\n",
       "  <thead>\n",
       "    <tr style=\"text-align: right;\">\n",
       "      <th></th>\n",
       "      <th>rating</th>\n",
       "      <th>review</th>\n",
       "      <th>Positively Rated</th>\n",
       "    </tr>\n",
       "  </thead>\n",
       "  <tbody>\n",
       "    <tr>\n",
       "      <th>0</th>\n",
       "      <td>50</td>\n",
       "      <td>In the Hotel the had a good room service, the ...</td>\n",
       "      <td>1</td>\n",
       "    </tr>\n",
       "    <tr>\n",
       "      <th>1</th>\n",
       "      <td>40</td>\n",
       "      <td>We spent a night here at this hotel when we fi...</td>\n",
       "      <td>1</td>\n",
       "    </tr>\n",
       "    <tr>\n",
       "      <th>2</th>\n",
       "      <td>40</td>\n",
       "      <td>Our room was clean and only a short walk to th...</td>\n",
       "      <td>1</td>\n",
       "    </tr>\n",
       "    <tr>\n",
       "      <th>3</th>\n",
       "      <td>10</td>\n",
       "      <td>Booked for 8 nights but stayed one( only becau...</td>\n",
       "      <td>0</td>\n",
       "    </tr>\n",
       "    <tr>\n",
       "      <th>4</th>\n",
       "      <td>20</td>\n",
       "      <td>This is the loudest hotel I’ve ever stayed at....</td>\n",
       "      <td>0</td>\n",
       "    </tr>\n",
       "  </tbody>\n",
       "</table>\n",
       "</div>"
      ],
      "text/plain": [
       "   rating                                             review  Positively Rated\n",
       "0      50  In the Hotel the had a good room service, the ...                 1\n",
       "1      40  We spent a night here at this hotel when we fi...                 1\n",
       "2      40  Our room was clean and only a short walk to th...                 1\n",
       "3      10  Booked for 8 nights but stayed one( only becau...                 0\n",
       "4      20  This is the loudest hotel I’ve ever stayed at....                 0"
      ]
     },
     "execution_count": 17,
     "metadata": {},
     "output_type": "execute_result"
    }
   ],
   "source": [
    "df.head()"
   ]
  },
  {
   "cell_type": "code",
   "execution_count": 18,
   "id": "fe4f3142",
   "metadata": {},
   "outputs": [
    {
     "data": {
      "text/plain": [
       "1    4287\n",
       "0     537\n",
       "Name: Positively Rated, dtype: int64"
      ]
     },
     "execution_count": 18,
     "metadata": {},
     "output_type": "execute_result"
    }
   ],
   "source": [
    "df[\"Positively Rated\"].value_counts()"
   ]
  },
  {
   "cell_type": "code",
   "execution_count": 19,
   "id": "19bcbaee",
   "metadata": {},
   "outputs": [],
   "source": [
    "#!pip install seaborn\n",
    "import seaborn as sns"
   ]
  },
  {
   "cell_type": "code",
   "execution_count": 19,
   "id": "92d0ba50",
   "metadata": {
    "scrolled": true
   },
   "outputs": [
    {
     "name": "stderr",
     "output_type": "stream",
     "text": [
      "C:\\Users\\vdeleon\\Anaconda3\\envs\\trip\\lib\\site-packages\\seaborn\\_decorators.py:36: FutureWarning: Pass the following variable as a keyword arg: x. From version 0.12, the only valid positional argument will be `data`, and passing other arguments without an explicit keyword will result in an error or misinterpretation.\n",
      "  warnings.warn(\n"
     ]
    },
    {
     "data": {
      "text/plain": [
       "<AxesSubplot:xlabel='Positively Rated', ylabel='count'>"
      ]
     },
     "execution_count": 19,
     "metadata": {},
     "output_type": "execute_result"
    },
    {
     "data": {
      "image/png": "[encoded data removed]",
      "text/plain": [
       "<Figure size 432x288 with 1 Axes>"
      ]
     },
     "metadata": {
      "needs_background": "light"
     },
     "output_type": "display_data"
    }
   ],
   "source": [
    "sns.countplot(df[\"Positively Rated\"])"
   ]
  },
  {
   "cell_type": "markdown",
   "id": "26b3c10c",
   "metadata": {},
   "source": [
    "## Definición de XTrain y Xtest del Modelo de Entrenamiento y Prueba  "
   ]
  },
  {
   "cell_type": "code",
   "execution_count": 20,
   "id": "14b8ccbd",
   "metadata": {},
   "outputs": [],
   "source": [
    "#! pip install sklearn\n",
    "from sklearn.model_selection import train_test_split"
   ]
  },
  {
   "cell_type": "code",
   "execution_count": 21,
   "id": "76ace1ab",
   "metadata": {},
   "outputs": [],
   "source": [
    "X_train, X_test, y_train, y_test = train_test_split(df[\"review\"],df[\"Positively Rated\"],random_state=50)"
   ]
  },
  {
   "cell_type": "code",
   "execution_count": 22,
   "id": "20807b28",
   "metadata": {},
   "outputs": [
    {
     "name": "stdout",
     "output_type": "stream",
     "text": [
      "3456    It was our first visit to the Posada Real in P...\n",
      "3702    We stayed here in January for a couple of nigh...\n",
      "1696    The place was very clean, surprisingly quiet a...\n",
      "249     The hotel is in a perfect location at the hear...\n",
      "2227    If you come here you will never want to go to ...\n",
      "                              ...                        \n",
      "3330    great place to stay while visiting puerto esco...\n",
      "70      Very lovely hotel with good friendly staff at ...\n",
      "132     Super nice place, very very clean and very nic...\n",
      "2014    My Wife and I spent 10 idyllic days at the Hot...\n",
      "1931    We have rented the whole house for 3 families,...\n",
      "Name: review, Length: 3618, dtype: object\n"
     ]
    }
   ],
   "source": [
    "print(X_train)"
   ]
  },
  {
   "cell_type": "code",
   "execution_count": 49,
   "id": "26257c43",
   "metadata": {},
   "outputs": [],
   "source": [
    "pd.set_option('display.max_colwidth',None)"
   ]
  },
  {
   "cell_type": "code",
   "execution_count": 50,
   "id": "eda50ffe",
   "metadata": {},
   "outputs": [
    {
     "data": {
      "text/plain": [
       "3456      It was our first visit to the Posada Real in Puerto with friends who have stayed at this resort before.  Their recommendation did not disappoint.  Our two week stay  was easy living and healthy.  There are plenty of stairs for a work out each day to and from the beach area (you can have a ride down ride if you prefer) which is nicely set back from the ocean. I liked the privacy that was available during our stay.  We were free to use the pools and restaurants with no crowds and in fact on some occasions  it felt like a private paradise of my own! The dining areas are outside which I enjoy.  There were many days buffets were available with freshly prepared vegetables and fish.  At others you could order from a menu which similar items to the buffets.  A few trips into town for\n",
       "3702                                                                                                                                                                                   We stayed here in January for a couple of nights. It was very reasonably priced, even for a suite. All the hotel rooms with a balcony had a lovely view of the beach, and the pool is a really bonus! The owners were really friendly and very happy to help, we were able to extend our stay for a few hours while waiting for our return journey at a really good price. The hotel is minutes away from the main beach and restaurants, and a short walk from some of the quieter beaches and the market. Food was good, and internet access made the stay thoroughly enjoyable. I would definitely recommend this place to anyone!\n",
       "1696      The place was very clean, surprisingly quiet and with very friendly staff. They have many free social activities, like salsa dancing, pasta nights and party nights.  It is very close to a popular beach.  This is a place for those who come to Mexico looking for a great beach vacation, and not so much to be in Mexico. The crowd is 100% expat. The staff (to a surprising degree) does not know the town or area well, other than how to get to beaches. They couldn't even say where to get good local food (we went to one of their recommendations and it is decidedly inferior to Taco Bell). Lots of guests come here and seem to spend most of their day smoking by the pool.  If you are looking for a fun beach experience with other foreign young travelers then this is the place for you. Most\n",
       "249     The hotel is in a perfect location at the heart of the Zicatela area, and directly across from  a dozen or so beautiful, tropical beach front bars. It is a 45 minute walk from the La Punta village hippy area, and about a half hour's walk from the Adoquine tourist strip, or a 35 peso cab from either, so close to other things of interest. If you book in advance you can get a better rate than they offer in the hotel. The air conditioner is a little tricky, make sure they explain it to you if you are having trouble (it isn't broken, the settings are just weird). Ours got so cold at night, it actually caused the window to break, as it is just so, so hot outside in Puerto Escondido. The staff is very friendly and helpful, the room cleanings are great and respectful of your stuff. The\n",
       "2227                                                                                                                                                                                                                                                                                                                            If you come here you will never want to go to a crowded tourist trap again. Gecko Rock is secluded, beautiful, and relaxing. The food was even better than I expected after reading the other reviews, and they even cooked up some fish that we caught on a charter fishing trip. If you're into birding or wildlife viewing, Gecko Rock is excellent for that too. Overall, this is one of the best vacations I've ever been on and I didn't think this level of relaxation was possible. \n",
       "                                                                                                                                                                                                                                                                                                                                                                                                                ...                                                                                                                                                                                                                                                                                                                                                                                                         \n",
       "3330                                                                                                                                                                                                                                                                                                                                                                                                                                                                                                       great place to stay while visiting puerto escondido. the large studio has plenty of room for your boards and other junk. AC blew cold and strong and the rooms were clean and stocked. the breakfasts were tasty and filling [maybe sometimes too much food]. morning conversations were priceless.  thanks pat! \n",
       "70                                                                                                                                                                                                                                                       Very lovely hotel with good friendly staff at the best location of Puerto Escondido. I enjoyed a lot having my breakfast at the restaurant that has a first row view over the bay. I went there every morning. We traveled with a 2 year old and were a bit afraid for the noise of the bars nearby, but we didn't hear a thing and slept very well every night. The only downside was that our room didn`t had wifi. Apparently only the rooms near the restaurant got wifi, but with the sea at 100 steps, who needs internet :).  Will definitely go back again.\n",
       "132                                                                                                                                                                                                                                                                                                                                                                                                                                                Super nice place, very very clean and very nice staff. Highly recommended as we think it is the best place to stay in PE! Especially Ernest, who works at the hostel is an excellent host who pushes hospitality to new limits :)   The beach is really close and the staff will give you very good recommendations regarding sport, food and tours. Would book again :) \n",
       "2014                                                                                                                                        My Wife and I spent 10 idyllic days at the Hotel Santa Fe. We found the staff to be nothing but friendly, courteous and helpful. The rooms are well-appointed, clean and comfortable. The restaurant is without question the best in Puerto Escondido, and very reasonable priced.  There is so much to do in the area that it is impossible to list them all. It is a nature lover's paradise, whether on land, sea or in the water, and probably one of the best surfing spots in the world  during the right months.  We would not hesitate to recommend  Hotel Santa Fe to any of our friends, and plan to return for a longer stay as soon as possible.  George and Rita P.\n",
       "1931      We have rented the whole house for 3 families, a total of 13 people, for 2 wonderful weeks. The house itself has 4 apartments, each with a kitchen, living room, bathroom and 2 bedrooms, and 1 more apartment on the top floor with a single room, bathroom, and kitchen. Plus, the common area has a great and clean swimming pool, concatenated with a \"palapa\" hosting a bar and a barbecue area; plus a living room with TV, a pool table, kitchen, garage, and  a spaceful lawn. It was really worth the costs, and the benefit to watch everyday a different and remarkable sunset was priceless. It's at a walking distance from the Zicatela beach, but sometimes you may want to reach it by car, if taking too many utensils and kids with you. I recommend day trips to Carrizalillo, and Roca Blanca,\n",
       "Name: review, Length: 3618, dtype: object"
      ]
     },
     "execution_count": 50,
     "metadata": {},
     "output_type": "execute_result"
    }
   ],
   "source": [
    "X_train"
   ]
  },
  {
   "cell_type": "code",
   "execution_count": 24,
   "id": "02063c7d",
   "metadata": {},
   "outputs": [
    {
     "data": {
      "text/plain": [
       "(3618,)"
      ]
     },
     "execution_count": 24,
     "metadata": {},
     "output_type": "execute_result"
    }
   ],
   "source": [
    "X_train.shape"
   ]
  },
  {
   "cell_type": "code",
   "execution_count": 24,
   "id": "bfcd6d06",
   "metadata": {},
   "outputs": [
    {
     "data": {
      "text/plain": [
       "\"We spent a night here at this hotel when we first pulled in to town.... it was adequate for our purposes.... the internet wifi worked just outside our room door.  The staff were friendly and helpful even though we didn't speak Spanish.\""
      ]
     },
     "execution_count": 24,
     "metadata": {},
     "output_type": "execute_result"
    }
   ],
   "source": [
    "X_train[1]"
   ]
  },
  {
   "cell_type": "code",
   "execution_count": 47,
   "id": "dabe80a2",
   "metadata": {},
   "outputs": [
    {
     "data": {
      "text/plain": [
       "4191    Stayed here while on a solo surf trip in Mexic...\n",
       "1742    Fabulous setting, great food and wonderful hos...\n",
       "4714    The Quinta Lili was a lovely friendly place.  ...\n",
       "2871    This place was great for meeting people and so...\n",
       "4487    My husband and I spent a week and a half at Vi...\n",
       "                              ...                        \n",
       "3705    Friendly staff, Lovely swimming pool for cooli...\n",
       "3413    We stayed here many moons ago & I'm so pleased...\n",
       "737     Paul and Luisa are perfect hosts- gracious and...\n",
       "2024    Staying a casa Kei is like staying with friend...\n",
       "3488    We stayed here for 2 nights.  The rooms was ve...\n",
       "Name: review, Length: 1206, dtype: object"
      ]
     },
     "execution_count": 47,
     "metadata": {},
     "output_type": "execute_result"
    }
   ],
   "source": [
    "X_test"
   ]
  },
  {
   "cell_type": "code",
   "execution_count": 27,
   "id": "c70231b8",
   "metadata": {},
   "outputs": [
    {
     "data": {
      "text/plain": [
       "(1206,)"
      ]
     },
     "execution_count": 27,
     "metadata": {},
     "output_type": "execute_result"
    }
   ],
   "source": [
    "X_test.shape"
   ]
  },
  {
   "cell_type": "markdown",
   "id": "f14de52d",
   "metadata": {},
   "source": [
    "## Vectorización"
   ]
  },
  {
   "cell_type": "code",
   "execution_count": 71,
   "id": "18820ddb",
   "metadata": {},
   "outputs": [],
   "source": [
    "#! pip install sklearn\n",
    "from sklearn.feature_extraction.text import CountVectorizer"
   ]
  },
  {
   "cell_type": "markdown",
   "id": "1e8721de",
   "metadata": {},
   "source": [
    "#### Modelo 1"
   ]
  },
  {
   "cell_type": "code",
   "execution_count": 289,
   "id": "78162d5f",
   "metadata": {},
   "outputs": [],
   "source": [
    "\"\"\"\"\n",
    "vect=CountVectorizer(min_df=5,\n",
    "                     ngram_range=(1,3),\n",
    "                     max_df=0.50,\n",
    "                     strip_accents = 'unicode', # works\n",
    "                     lowercase = True, # works\n",
    "                     #token_pattern\n",
    "                     #max_features=4000\n",
    "                     stop_words='english').fit(X_train)\n"
   ]
  },
  {
   "cell_type": "code",
   "execution_count": 290,
   "id": "ad5cad98",
   "metadata": {},
   "outputs": [
    {
     "data": {
      "text/plain": [
       "267670"
      ]
     },
     "execution_count": 290,
     "metadata": {},
     "output_type": "execute_result"
    }
   ],
   "source": [
    "#vect.vocabulary_\n",
    "#\n",
    "len(vect.stop_words_)"
   ]
  },
  {
   "cell_type": "code",
   "execution_count": 291,
   "id": "5bfc76e8",
   "metadata": {},
   "outputs": [
    {
     "data": {
      "text/plain": [
       "7196"
      ]
     },
     "execution_count": 291,
     "metadata": {},
     "output_type": "execute_result"
    }
   ],
   "source": [
    "len(vect.vocabulary_)"
   ]
  },
  {
   "cell_type": "markdown",
   "id": "3cbc47b3",
   "metadata": {},
   "source": [
    "#### Modelo 2"
   ]
  },
  {
   "cell_type": "code",
   "execution_count": 324,
   "id": "dd5f30e6",
   "metadata": {},
   "outputs": [],
   "source": [
    "\"\"\"\"\n",
    "vect=CountVectorizer(min_df=10,\n",
    "                     ngram_range=(1,3),\n",
    "                     max_df=0.80,\n",
    "                     strip_accents = 'unicode', # works\n",
    "                     lowercase = True, # works\n",
    "                     #token_pattern\n",
    "                     #max_features=4000\n",
    "                     stop_words='english').fit(X_train)"
   ]
  },
  {
   "cell_type": "code",
   "execution_count": 325,
   "id": "30f2e1ad",
   "metadata": {},
   "outputs": [
    {
     "data": {
      "text/plain": [
       "271574"
      ]
     },
     "execution_count": 325,
     "metadata": {},
     "output_type": "execute_result"
    }
   ],
   "source": [
    "len(vect.stop_words_)"
   ]
  },
  {
   "cell_type": "code",
   "execution_count": 326,
   "id": "f48cd3a1",
   "metadata": {},
   "outputs": [
    {
     "data": {
      "text/plain": [
       "3292"
      ]
     },
     "execution_count": 326,
     "metadata": {},
     "output_type": "execute_result"
    }
   ],
   "source": [
    "len(vect.vocabulary_)"
   ]
  },
  {
   "cell_type": "markdown",
   "id": "c9062499",
   "metadata": {},
   "source": [
    "#### Modelo 3"
   ]
  },
  {
   "cell_type": "code",
   "execution_count": 359,
   "id": "b0de442e",
   "metadata": {},
   "outputs": [],
   "source": [
    "\"\"\"\"\n",
    "vect=CountVectorizer(min_df=5,\n",
    "                     ngram_range=(1,3),\n",
    "                     max_df=0.80,\n",
    "                     strip_accents = 'unicode', # works\n",
    "                     lowercase = True, # works\n",
    "                     #token_pattern\n",
    "                     max_features=2000,\n",
    "                     stop_words='english').fit(X_train)"
   ]
  },
  {
   "cell_type": "code",
   "execution_count": 360,
   "id": "bded188d",
   "metadata": {},
   "outputs": [
    {
     "data": {
      "text/plain": [
       "272866"
      ]
     },
     "execution_count": 360,
     "metadata": {},
     "output_type": "execute_result"
    }
   ],
   "source": [
    "len(vect.stop_words_)"
   ]
  },
  {
   "cell_type": "code",
   "execution_count": 361,
   "id": "0f0cdf9f",
   "metadata": {},
   "outputs": [
    {
     "data": {
      "text/plain": [
       "2000"
      ]
     },
     "execution_count": 361,
     "metadata": {},
     "output_type": "execute_result"
    }
   ],
   "source": [
    "len(vect.vocabulary_)"
   ]
  },
  {
   "cell_type": "markdown",
   "id": "2ef706e4",
   "metadata": {},
   "source": [
    "#### Modelo 4"
   ]
  },
  {
   "cell_type": "code",
   "execution_count": 399,
   "id": "9173c6d1",
   "metadata": {},
   "outputs": [],
   "source": [
    "\n",
    "\n",
    "vect=CountVectorizer(min_df=5,\n",
    "                     ngram_range=(1,3),\n",
    "                     max_df=0.80,\n",
    "                     strip_accents = 'unicode', # works\n",
    "                     lowercase = True, # works\n",
    "                     token_pattern ='(?<!\\S)[A-Za-z]+(?!\\S)|(?<!\\S)[A-Za-z]+(?=:(?!\\S))',\n",
    "                     #max_features=2000\n",
    "                     stop_words='english').fit(X_train)"
   ]
  },
  {
   "cell_type": "code",
   "execution_count": 400,
   "id": "722cd971",
   "metadata": {},
   "outputs": [
    {
     "data": {
      "text/plain": [
       "213831"
      ]
     },
     "execution_count": 400,
     "metadata": {},
     "output_type": "execute_result"
    }
   ],
   "source": [
    "len(vect.stop_words_)"
   ]
  },
  {
   "cell_type": "code",
   "execution_count": 409,
   "id": "45d252ed",
   "metadata": {},
   "outputs": [
    {
     "data": {
      "text/plain": [
       "5285"
      ]
     },
     "execution_count": 409,
     "metadata": {},
     "output_type": "execute_result"
    }
   ],
   "source": [
    "len(vect.vocabulary_)"
   ]
  },
  {
   "cell_type": "code",
   "execution_count": null,
   "id": "32c5a04e",
   "metadata": {},
   "outputs": [],
   "source": [
    "#Vectorizacion sobre X_train\n",
    "X_train_vectorized=vect.transform(X_train)"
   ]
  },
  {
   "cell_type": "code",
   "execution_count": 408,
   "id": "11920af2",
   "metadata": {},
   "outputs": [
    {
     "name": "stdout",
     "output_type": "stream",
     "text": [
      "able\n",
      "access\n",
      "away\n",
      "away main\n",
      "balcony\n",
      "beach\n",
      "beach short\n",
      "beach short walk\n",
      "beaches\n",
      "couple\n",
      "definitely\n",
      "definitely recommend\n",
      "extend\n",
      "extend stay\n",
      "food\n",
      "friendly\n",
      "good\n",
      "good hotel\n",
      "happy\n",
      "hotel\n",
      "hotel minutes\n",
      "hotel rooms\n",
      "hours\n",
      "internet\n",
      "internet access\n",
      "january\n",
      "journey\n",
      "lovely\n",
      "main\n",
      "main beach\n",
      "minutes\n",
      "minutes away\n",
      "owners\n",
      "owners really\n",
      "place\n",
      "pool\n",
      "pool really\n",
      "quieter\n",
      "really\n",
      "really friendly\n",
      "really good\n",
      "reasonably\n",
      "recommend\n",
      "recommend place\n",
      "return\n",
      "rooms\n",
      "rooms balcony\n",
      "short\n",
      "short walk\n",
      "stay\n",
      "stayed\n",
      "thoroughly\n",
      "view\n",
      "view pool\n",
      "waiting\n",
      "walk\n"
     ]
    }
   ],
   "source": [
    "_, col_index = X_train_vectorized[1].nonzero()\n",
    "for i in col_index:\n",
    "    print(sorted(list(vect.vocabulary_))[i])"
   ]
  },
  {
   "cell_type": "markdown",
   "id": "a7d35527",
   "metadata": {},
   "source": [
    "## Clasificación utilizando dos modelos (Regresión Logistica y Naive Bayes (Bernoulli)"
   ]
  },
  {
   "cell_type": "code",
   "execution_count": 242,
   "id": "cd756da4",
   "metadata": {},
   "outputs": [],
   "source": [
    "\"\"\"\"\n",
    "\n",
    "#Modelo de Regresión Logística\n",
    "from sklearn.linear_model import LogisticRegression\n",
    "model= LogisticRegression()\n"
   ]
  },
  {
   "cell_type": "code",
   "execution_count": 411,
   "id": "0cd776a3",
   "metadata": {},
   "outputs": [],
   "source": [
    "#Modelo Naive Bayes\n",
    "from sklearn.naive_bayes import BernoulliNB\n",
    "model= BernoulliNB(\n",
    "        alpha=1.0,\n",
    "        binarize=0.0,\n",
    "        fit_prior=True,\n",
    "        class_prior=None\n",
    ")"
   ]
  },
  {
   "cell_type": "markdown",
   "id": "053cd793",
   "metadata": {},
   "source": [
    "### Entrenamiento del Modelo\n",
    "\n",
    "\n"
   ]
  },
  {
   "cell_type": "code",
   "execution_count": 412,
   "id": "bad3d262",
   "metadata": {},
   "outputs": [
    {
     "data": {
      "text/plain": [
       "BernoulliNB()"
      ]
     },
     "execution_count": 412,
     "metadata": {},
     "output_type": "execute_result"
    }
   ],
   "source": [
    "#Training del modelo\n",
    "model.fit(X_train_vectorized, y_train)"
   ]
  },
  {
   "cell_type": "code",
   "execution_count": 413,
   "id": "8a2cbc8d",
   "metadata": {},
   "outputs": [
    {
     "data": {
      "text/plain": [
       "BernoulliNB()"
      ]
     },
     "execution_count": 413,
     "metadata": {},
     "output_type": "execute_result"
    }
   ],
   "source": [
    "#Imprimir que modelo se está utilizando\n",
    "model"
   ]
  },
  {
   "cell_type": "markdown",
   "id": "ff72005b",
   "metadata": {},
   "source": [
    "### Predicción"
   ]
  },
  {
   "cell_type": "code",
   "execution_count": 414,
   "id": "af845137",
   "metadata": {},
   "outputs": [],
   "source": [
    "#Save predictions\n",
    "predictions= model.predict(vect.transform(X_test))"
   ]
  },
  {
   "cell_type": "code",
   "execution_count": 246,
   "id": "f733c9a0",
   "metadata": {},
   "outputs": [],
   "source": [
    "#X_test.head()\n"
   ]
  },
  {
   "cell_type": "markdown",
   "id": "4eaba504",
   "metadata": {},
   "source": [
    "### Predicción de una Frase (Sanity Check)"
   ]
  },
  {
   "cell_type": "code",
   "execution_count": 455,
   "id": "602b8e98",
   "metadata": {},
   "outputs": [],
   "source": [
    "#sentence='So good that crab, i am very happy'\n",
    "#sentence='i am feel bad about the service, is really the worst, i would really think twice next time, i am unsatisfied.'\n",
    "#sentence='the service was very bad the attention worse i am unsatisfied.'\n",
    "#sentence='the Quinta Lili was a lovely friendly place.  Small enough to be intimater but no encroaching on private space.  The key was the hands-on-service and enthusiasm of all the staff but especially the two owners who could not have been more friendly, engaging and helpful.  The food was great too - fresh juice . fruit and prepared fare.'\n",
    "sentence='There are more cons than pros about this place unfortunately. Nice amenities, good enough internet to have your video calls but it all gets ruined by customer service. Ive been here 4 times and got disappointed each time because they change rules and make you pay for it. There is no way you can track the rules either. Initially I came here to relax and enjoy myself in a comfortable space. Unfortunately everytime I tried to do this, one of their employees would come up to me and haggle me for one thing or another. First they let you in without buying a day pass but not using a pool. Second time they tell you cant do it and you in have to pay for the day pass. The day pass price changes on a daily basis whenever they want. Regardless, each time I have been there I spent over.'"
   ]
  },
  {
   "cell_type": "code",
   "execution_count": 456,
   "id": "e099b8d4",
   "metadata": {
    "scrolled": true
   },
   "outputs": [
    {
     "data": {
      "text/plain": [
       "['There are more cons than pros about this place unfortunately. Nice amenities, good enough internet to have your video calls but it all gets ruined by customer service. Ive been here 4 times and got disappointed each time because they change rules and make you pay for it. There is no way you can track the rules either. Initially I came here to relax and enjoy myself in a comfortable space. Unfortunately everytime I tried to do this, one of their employees would come up to me and haggle me for one thing or another. First they let you in without buying a day pass but not using a pool. Second time they tell you cant do it and you in have to pay for the day pass. The day pass price changes on a daily basis whenever they want. Regardless, each time I have been there I spent over.']"
      ]
     },
     "execution_count": 456,
     "metadata": {},
     "output_type": "execute_result"
    }
   ],
   "source": [
    "vector_pred=[sentence]\n",
    "vector_pred"
   ]
  },
  {
   "cell_type": "markdown",
   "id": "12a3b35b",
   "metadata": {},
   "source": [
    "## Función Predict (Devuelve una clase positiva o negativa)"
   ]
  },
  {
   "cell_type": "code",
   "execution_count": 457,
   "id": "33c64f38",
   "metadata": {},
   "outputs": [],
   "source": [
    "predictions_phrase= model.predict(vect.transform(vector_pred))"
   ]
  },
  {
   "cell_type": "code",
   "execution_count": 458,
   "id": "b49ca340",
   "metadata": {},
   "outputs": [
    {
     "name": "stdout",
     "output_type": "stream",
     "text": [
      "[0]\n"
     ]
    }
   ],
   "source": [
    "print(predictions_phrase)"
   ]
  },
  {
   "cell_type": "markdown",
   "id": "ffc61189",
   "metadata": {},
   "source": [
    "## Matriz de Confusión"
   ]
  },
  {
   "cell_type": "code",
   "execution_count": 430,
   "id": "b259dead",
   "metadata": {},
   "outputs": [
    {
     "data": {
      "text/plain": [
       "array([[  79,   61],\n",
       "       [  44, 1022]], dtype=int64)"
      ]
     },
     "execution_count": 430,
     "metadata": {},
     "output_type": "execute_result"
    }
   ],
   "source": [
    "from sklearn.metrics import confusion_matrix\n",
    "cf=confusion_matrix(y_test, predictions)\n",
    "cf"
   ]
  },
  {
   "cell_type": "code",
   "execution_count": 416,
   "id": "8baffbe5",
   "metadata": {
    "scrolled": true
   },
   "outputs": [
    {
     "data": {
      "image/png": "[encoded data removed]",
      "text/plain": [
       "<Figure size 540x540 with 1 Axes>"
      ]
     },
     "metadata": {
      "needs_background": "light"
     },
     "output_type": "display_data"
    }
   ],
   "source": [
    "import matplotlib.pyplot as plt\n",
    "\n",
    "conf_matrix = confusion_matrix(y_true=y_test, y_pred=predictions)\n",
    "#\n",
    "# Print the confusion matrix using Matplotlib\n",
    "#\n",
    "fig, ax = plt.subplots(figsize=(7.5, 7.5))\n",
    "ax.matshow(conf_matrix, cmap=plt.cm.Blues, alpha=0.3)\n",
    "for i in range(conf_matrix.shape[0]):\n",
    "    for j in range(conf_matrix.shape[1]):\n",
    "        ax.text(x=j, y=i,s=conf_matrix[i, j], va='center', ha='center', size='xx-large')\n",
    " \n",
    "plt.xlabel('Predictions', fontsize=18)\n",
    "plt.ylabel('Actuals', fontsize=18)\n",
    "plt.title('Confusion Matrix', fontsize=18)\n",
    "plt.show()"
   ]
  },
  {
   "cell_type": "markdown",
   "id": "e95d26fd",
   "metadata": {},
   "source": [
    "## Metricas (Precision, Recall y F1 Score)"
   ]
  },
  {
   "cell_type": "code",
   "execution_count": 417,
   "id": "ffdcf71f",
   "metadata": {},
   "outputs": [
    {
     "data": {
      "text/plain": [
       "(array([0.64227642, 0.94367498]),\n",
       " array([0.56428571, 0.9587242 ]),\n",
       " array([0.60076046, 0.95114007]),\n",
       " array([ 140, 1066], dtype=int64))"
      ]
     },
     "execution_count": 417,
     "metadata": {},
     "output_type": "execute_result"
    }
   ],
   "source": [
    "from sklearn.metrics import precision_recall_fscore_support\n",
    "precision_recall_fscore_support(y_test, predictions)\n",
    "#precision "
   ]
  },
  {
   "cell_type": "code",
   "execution_count": 418,
   "id": "9a3c47f9",
   "metadata": {},
   "outputs": [
    {
     "name": "stdout",
     "output_type": "stream",
     "text": [
      "1022 44 61 79\n"
     ]
    }
   ],
   "source": [
    "tn, fp, fn, tp = confusion_matrix(y_test, predictions).ravel()\n",
    "print(tp,fn,fp,tn)"
   ]
  },
  {
   "cell_type": "code",
   "execution_count": 419,
   "id": "b6539125",
   "metadata": {},
   "outputs": [
    {
     "name": "stdout",
     "output_type": "stream",
     "text": [
      "Precision: 0.9436749769159741\n",
      "Recall: 0.9587242026266416\n",
      "F1 Score: 0.9511400651465798\n"
     ]
    }
   ],
   "source": [
    "precision=tp/(tp+fp)\n",
    "recall= tp/(tp+fn)\n",
    "f1=2*(precision*recall)/(precision+recall)\n",
    "print(\"Precision:\",precision)\n",
    "print(\"Recall:\",recall)\n",
    "print(\"F1 Score:\", f1)"
   ]
  },
  {
   "cell_type": "code",
   "execution_count": 420,
   "id": "13904c66",
   "metadata": {},
   "outputs": [],
   "source": [
    "#List1=[precision,recall,f1]\n",
    "#List2=[precision,recall,f1]\n",
    "#List3=[precision,recall,f1]\n",
    "#List4=[precision,recall,f1]\n",
    "#List5=[precision,recall,f1]\n",
    "#List6=[precision,recall,f1]\n",
    "#List7=[precision,recall,f1]\n",
    "List8=[precision,recall,f1]"
   ]
  },
  {
   "cell_type": "code",
   "execution_count": 421,
   "id": "ecd8fb0a",
   "metadata": {
    "scrolled": true
   },
   "outputs": [
    {
     "name": "stdout",
     "output_type": "stream",
     "text": [
      "[0.9336917562724014, 0.9774859287054409, 0.9550870760769936]\n",
      "[0.9350180505415162, 0.9718574108818011, 0.953081876724931]\n",
      "[0.9414990859232175, 0.9662288930581614, 0.9537037037037036]\n",
      "[0.9253333333333333, 0.9765478424015009, 0.9502510269283433]\n",
      "[0.9539906103286385, 0.9530956848030019, 0.9535429375879868]\n",
      "[0.971540726202159, 0.9287054409005628, 0.9496402877697842]\n",
      "[0.9723320158102767, 0.9230769230769231, 0.9470644850818096]\n",
      "[0.9436749769159741, 0.9587242026266416, 0.9511400651465798]\n"
     ]
    }
   ],
   "source": [
    "print(List1)\n",
    "print(List2)\n",
    "print(List3)\n",
    "print(List4)\n",
    "print(List5)\n",
    "print(List6)\n",
    "print(List7)\n",
    "print(List8)"
   ]
  },
  {
   "cell_type": "markdown",
   "id": "e0579f8c",
   "metadata": {},
   "source": [
    "## Resultados por modelo validado:"
   ]
  },
  {
   "cell_type": "code",
   "execution_count": 459,
   "id": "e1159c6c",
   "metadata": {},
   "outputs": [
    {
     "name": "stdout",
     "output_type": "stream",
     "text": [
      "         F1    Recall  Precision\n",
      "0  0.933692  0.977486   0.955087\n",
      "1  0.935018  0.971857   0.953082\n",
      "2  0.941499  0.966229   0.953704\n",
      "3  0.925333  0.976548   0.950251\n",
      "4  0.953991  0.953096   0.953543\n",
      "5  0.971541  0.928705   0.949640\n",
      "6  0.972332  0.923077   0.947064\n",
      "7  0.943675  0.958724   0.951140\n"
     ]
    }
   ],
   "source": [
    "import pandas as pd\n",
    "\n",
    "resultado = pd.DataFrame([])\n",
    "\n",
    "resultado = pd.DataFrame([List1,List2,List3,List4,List5,List6,List7,List8])\n",
    "\n",
    "resultado.columns = {'Precision', 'Recall', 'F1'}\n",
    "\n",
    "print(resultado)"
   ]
  },
  {
   "cell_type": "markdown",
   "id": "1161f5b8",
   "metadata": {},
   "source": [
    "## Esta gráfica muestra el resultado de los 8 modelos.\n",
    "## El modelo que nos brindó el mejor resultado fue el Naive Bayes 2 (nb2)"
   ]
  },
  {
   "attachments": {
    "Grafica_Metricas.PNG": {
     "image/png": "[encoded data removed]"
    }
   },
   "cell_type": "markdown",
   "id": "79ebcef6",
   "metadata": {},
   "source": [
    "![Grafica_Metricas.PNG](attachment:Grafica_Metricas.PNG)"
   ]
  },
  {
   "cell_type": "code",
   "execution_count": 462,
   "id": "8b079cc8",
   "metadata": {
    "scrolled": true
   },
   "outputs": [
    {
     "data": {
      "text/html": [
       "<div>\n",
       "<style scoped>\n",
       "    .dataframe tbody tr th:only-of-type {\n",
       "        vertical-align: middle;\n",
       "    }\n",
       "\n",
       "    .dataframe tbody tr th {\n",
       "        vertical-align: top;\n",
       "    }\n",
       "\n",
       "    .dataframe thead th {\n",
       "        text-align: right;\n",
       "    }\n",
       "</style>\n",
       "<table border=\"1\" class=\"dataframe\">\n",
       "  <thead>\n",
       "    <tr style=\"text-align: right;\">\n",
       "      <th></th>\n",
       "      <th>Classifier</th>\n",
       "      <th>Vocabulary</th>\n",
       "      <th>Predict(Negative)</th>\n",
       "      <th>Predict(Positive)</th>\n",
       "      <th>Comentarios</th>\n",
       "    </tr>\n",
       "  </thead>\n",
       "  <tbody>\n",
       "    <tr>\n",
       "      <th>0</th>\n",
       "      <td>LogReg</td>\n",
       "      <td>7196</td>\n",
       "      <td>2</td>\n",
       "      <td>3</td>\n",
       "      <td>NaN</td>\n",
       "    </tr>\n",
       "    <tr>\n",
       "      <th>1</th>\n",
       "      <td>LogReg</td>\n",
       "      <td>3292</td>\n",
       "      <td>2</td>\n",
       "      <td>3</td>\n",
       "      <td>NaN</td>\n",
       "    </tr>\n",
       "    <tr>\n",
       "      <th>2</th>\n",
       "      <td>LogReg</td>\n",
       "      <td>2000</td>\n",
       "      <td>2</td>\n",
       "      <td>3</td>\n",
       "      <td>NaN</td>\n",
       "    </tr>\n",
       "    <tr>\n",
       "      <th>3</th>\n",
       "      <td>LogReg</td>\n",
       "      <td>5285</td>\n",
       "      <td>1</td>\n",
       "      <td>4</td>\n",
       "      <td>NaN</td>\n",
       "    </tr>\n",
       "    <tr>\n",
       "      <th>4</th>\n",
       "      <td>BernoulliNB</td>\n",
       "      <td>7196</td>\n",
       "      <td>1</td>\n",
       "      <td>4</td>\n",
       "      <td>NaN</td>\n",
       "    </tr>\n",
       "    <tr>\n",
       "      <th>5</th>\n",
       "      <td>BernoulliNB</td>\n",
       "      <td>3292</td>\n",
       "      <td>3</td>\n",
       "      <td>2</td>\n",
       "      <td>Correcto en todas las predicciones de frases</td>\n",
       "    </tr>\n",
       "    <tr>\n",
       "      <th>6</th>\n",
       "      <td>BernoulliNB</td>\n",
       "      <td>2000</td>\n",
       "      <td>4</td>\n",
       "      <td>1</td>\n",
       "      <td>El que peor acertó a las predicciones de frases</td>\n",
       "    </tr>\n",
       "    <tr>\n",
       "      <th>7</th>\n",
       "      <td>BernoulliNB</td>\n",
       "      <td>5285</td>\n",
       "      <td>1</td>\n",
       "      <td>4</td>\n",
       "      <td>NaN</td>\n",
       "    </tr>\n",
       "  </tbody>\n",
       "</table>\n",
       "</div>"
      ],
      "text/plain": [
       "    Classifier  Vocabulary  Predict(Negative)  Predict(Positive)  \\\n",
       "0       LogReg        7196                  2                  3   \n",
       "1       LogReg        3292                  2                  3   \n",
       "2       LogReg        2000                  2                  3   \n",
       "3       LogReg        5285                  1                  4   \n",
       "4  BernoulliNB        7196                  1                  4   \n",
       "5  BernoulliNB        3292                  3                  2   \n",
       "6  BernoulliNB        2000                  4                  1   \n",
       "7  BernoulliNB        5285                  1                  4   \n",
       "\n",
       "                                       Comentarios  \n",
       "0                                              NaN  \n",
       "1                                              NaN  \n",
       "2                                              NaN  \n",
       "3                                              NaN  \n",
       "4                                              NaN  \n",
       "5     Correcto en todas las predicciones de frases  \n",
       "6  El que peor acertó a las predicciones de frases  \n",
       "7                                              NaN  "
      ]
     },
     "execution_count": 462,
     "metadata": {},
     "output_type": "execute_result"
    }
   ],
   "source": [
    "conclu= pd.read_csv(\"C://Users//jmgarcia//book.csv\")\n",
    "conclu.head(10)"
   ]
  },
  {
   "cell_type": "markdown",
   "id": "5ba87057",
   "metadata": {},
   "source": [
    "## Variaciones de hiperparámetros realizadas:\n",
    "## Se utilizarón dos algoritmos de clasificación y se realizarón cambios de hiperparámetros únicamente en la función CountVectorizer.\n",
    "\n",
    "## * Modelo 1, Regresión logística, Countvectorizer: min_df=5; max_df=0.5;ngram_range=(1,3);strip_accents=unicode;lowercase=True;stop_words=english\n",
    "\n",
    "## * Modelo 2, Regresión logística, Countvectorizer: se vario de min_df=5 a min_df=10\n",
    "\n",
    "## * Modelo 3, Regresión logística, Countvectorizer: se agregó el feature max_features=2000 y se devolvió el min_df=5\n",
    "\n",
    "## * Modelo 4, Regresión logística, Countvectorizer: se removió el feature max_features=2000 y se agregó el token_pattern ='(?<!\\S)[A-Za-z]+(?!\\S)|(?<!\\S)[A-Za-z]+(?=:(?!\\S))'\n",
    "\n",
    "## Para los modelos 5 al 8, se realizó  la misma secuencia de cambios en la función Countvectorizer, pero con el algoritomo BernoulliNB()\n",
    "\n",
    "## Se probó el hiperparámetro tokenizer=LemmaTokenizer() , pero este ocasionó que no pudieramos ejecutar otros hiperparámetros, por ejemplo el de stop_words. Por lo que optamos, no incluirlo. "
   ]
  },
  {
   "cell_type": "markdown",
   "id": "9af2b168",
   "metadata": {},
   "source": [
    "# Conclusiones de la Tarea:\n",
    "## El mejor modelo que vemos desde las predicciones de las frases, es el de BernoulliNB; con parámetro min_df igual a 10 en la función Countvectorizer.\n",
    "## En las frases propuestas se consideraron 3 con sentido negativo y 2 con sentido positivo validadas en la función predict solamente el modelo 6 (nb2), cumplió con exactitud las expectativas de predicción."
   ]
  },
  {
   "cell_type": "markdown",
   "id": "42796b8c",
   "metadata": {},
   "source": []
  }
 ],
 "metadata": {
  "kernelspec": {
   "display_name": "Python 3 (ipykernel)",
   "language": "python",
   "name": "python3"
  },
  "language_info": {
   "codemirror_mode": {
    "name": "ipython",
    "version": 3
   },
   "file_extension": ".py",
   "mimetype": "text/x-python",
   "name": "python",
   "nbconvert_exporter": "python",
   "pygments_lexer": "ipython3",
   "version": "3.9.7"
  }
 },
 "nbformat": 4,
 "nbformat_minor": 5
}
